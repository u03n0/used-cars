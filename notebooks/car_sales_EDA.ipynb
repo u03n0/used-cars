{
 "cells": [
  {
   "cell_type": "code",
   "execution_count": 1,
   "metadata": {},
   "outputs": [],
   "source": [
    "import pandas as pd\n",
    "import matplotlib.pyplot as pt \n",
    "import seaborn as sns"
   ]
  },
  {
   "cell_type": "code",
   "execution_count": 2,
   "metadata": {},
   "outputs": [
    {
     "name": "stdout",
     "output_type": "stream",
     "text": [
      "(2500000, 6)\n"
     ]
    },
    {
     "data": {
      "text/html": [
       "<div>\n",
       "<style scoped>\n",
       "    .dataframe tbody tr th:only-of-type {\n",
       "        vertical-align: middle;\n",
       "    }\n",
       "\n",
       "    .dataframe tbody tr th {\n",
       "        vertical-align: top;\n",
       "    }\n",
       "\n",
       "    .dataframe thead th {\n",
       "        text-align: right;\n",
       "    }\n",
       "</style>\n",
       "<table border=\"1\" class=\"dataframe\">\n",
       "  <thead>\n",
       "    <tr style=\"text-align: right;\">\n",
       "      <th></th>\n",
       "      <th>date_sold_new</th>\n",
       "      <th>make</th>\n",
       "      <th>model</th>\n",
       "      <th>year</th>\n",
       "      <th>sale_price_new</th>\n",
       "      <th>car_age</th>\n",
       "    </tr>\n",
       "  </thead>\n",
       "  <tbody>\n",
       "    <tr>\n",
       "      <th>0</th>\n",
       "      <td>2022-08-01</td>\n",
       "      <td>nissan</td>\n",
       "      <td>altima</td>\n",
       "      <td>2018</td>\n",
       "      <td>15983</td>\n",
       "      <td>4</td>\n",
       "    </tr>\n",
       "    <tr>\n",
       "      <th>1</th>\n",
       "      <td>2023-03-15</td>\n",
       "      <td>nissan</td>\n",
       "      <td>f-150</td>\n",
       "      <td>2016</td>\n",
       "      <td>38474</td>\n",
       "      <td>7</td>\n",
       "    </tr>\n",
       "    <tr>\n",
       "      <th>2</th>\n",
       "      <td>2023-04-29</td>\n",
       "      <td>ford</td>\n",
       "      <td>civic</td>\n",
       "      <td>2016</td>\n",
       "      <td>33340</td>\n",
       "      <td>7</td>\n",
       "    </tr>\n",
       "    <tr>\n",
       "      <th>3</th>\n",
       "      <td>2022-09-04</td>\n",
       "      <td>ford</td>\n",
       "      <td>altima</td>\n",
       "      <td>2013</td>\n",
       "      <td>41937</td>\n",
       "      <td>9</td>\n",
       "    </tr>\n",
       "    <tr>\n",
       "      <th>4</th>\n",
       "      <td>2022-06-16</td>\n",
       "      <td>honda</td>\n",
       "      <td>silverado</td>\n",
       "      <td>2022</td>\n",
       "      <td>20256</td>\n",
       "      <td>0</td>\n",
       "    </tr>\n",
       "    <tr>\n",
       "      <th>5</th>\n",
       "      <td>2022-12-18</td>\n",
       "      <td>ford</td>\n",
       "      <td>altima</td>\n",
       "      <td>2015</td>\n",
       "      <td>14769</td>\n",
       "      <td>7</td>\n",
       "    </tr>\n",
       "    <tr>\n",
       "      <th>6</th>\n",
       "      <td>2022-06-12</td>\n",
       "      <td>honda</td>\n",
       "      <td>f-150</td>\n",
       "      <td>2013</td>\n",
       "      <td>41397</td>\n",
       "      <td>9</td>\n",
       "    </tr>\n",
       "    <tr>\n",
       "      <th>7</th>\n",
       "      <td>2022-06-20</td>\n",
       "      <td>ford</td>\n",
       "      <td>altima</td>\n",
       "      <td>2015</td>\n",
       "      <td>46233</td>\n",
       "      <td>7</td>\n",
       "    </tr>\n",
       "    <tr>\n",
       "      <th>8</th>\n",
       "      <td>2022-09-02</td>\n",
       "      <td>ford</td>\n",
       "      <td>corolla</td>\n",
       "      <td>2021</td>\n",
       "      <td>27337</td>\n",
       "      <td>1</td>\n",
       "    </tr>\n",
       "    <tr>\n",
       "      <th>9</th>\n",
       "      <td>2023-04-06</td>\n",
       "      <td>ford</td>\n",
       "      <td>civic</td>\n",
       "      <td>2018</td>\n",
       "      <td>16309</td>\n",
       "      <td>5</td>\n",
       "    </tr>\n",
       "  </tbody>\n",
       "</table>\n",
       "</div>"
      ],
      "text/plain": [
       "  date_sold_new    make      model  year  sale_price_new  car_age\n",
       "0    2022-08-01  nissan     altima  2018           15983        4\n",
       "1    2023-03-15  nissan      f-150  2016           38474        7\n",
       "2    2023-04-29    ford      civic  2016           33340        7\n",
       "3    2022-09-04    ford     altima  2013           41937        9\n",
       "4    2022-06-16   honda  silverado  2022           20256        0\n",
       "5    2022-12-18    ford     altima  2015           14769        7\n",
       "6    2022-06-12   honda      f-150  2013           41397        9\n",
       "7    2022-06-20    ford     altima  2015           46233        7\n",
       "8    2022-09-02    ford    corolla  2021           27337        1\n",
       "9    2023-04-06    ford      civic  2018           16309        5"
      ]
     },
     "execution_count": 2,
     "metadata": {},
     "output_type": "execute_result"
    }
   ],
   "source": [
    "df = pd.read_csv(\"../data/interim/car_sales_data.csv\")\n",
    "print(df.shape)\n",
    "df.head(10)"
   ]
  },
  {
   "cell_type": "code",
   "execution_count": 3,
   "metadata": {},
   "outputs": [
    {
     "name": "stdout",
     "output_type": "stream",
     "text": [
      "<class 'pandas.core.frame.DataFrame'>\n",
      "RangeIndex: 2500000 entries, 0 to 2499999\n",
      "Data columns (total 6 columns):\n",
      " #   Column          Dtype         \n",
      "---  ------          -----         \n",
      " 0   date_sold_new   datetime64[ns]\n",
      " 1   make            object        \n",
      " 2   model           object        \n",
      " 3   year            int64         \n",
      " 4   sale_price_new  int64         \n",
      " 5   car_age         int64         \n",
      "dtypes: datetime64[ns](1), int64(3), object(2)\n",
      "memory usage: 114.4+ MB\n"
     ]
    }
   ],
   "source": [
    "df['date_sold_new'] = pd.to_datetime(df['date_sold_new'])\n",
    "df.info()"
   ]
  },
  {
   "cell_type": "code",
   "execution_count": 4,
   "metadata": {},
   "outputs": [
    {
     "data": {
      "text/plain": [
       "make\n",
       "honda        500687\n",
       "chevrolet    500455\n",
       "toyota       500147\n",
       "ford         499781\n",
       "nissan       498930\n",
       "Name: count, dtype: int64"
      ]
     },
     "execution_count": 4,
     "metadata": {},
     "output_type": "execute_result"
    }
   ],
   "source": [
    "df['make'].value_counts()"
   ]
  },
  {
   "cell_type": "code",
   "execution_count": 5,
   "metadata": {},
   "outputs": [
    {
     "data": {
      "text/plain": [
       "year\n",
       "2013    192970\n",
       "2017    192663\n",
       "2020    192657\n",
       "2015    192595\n",
       "2018    192549\n",
       "2014    192491\n",
       "2010    192462\n",
       "2012    192454\n",
       "2016    192267\n",
       "2019    192225\n",
       "2011    191800\n",
       "2021    191636\n",
       "2022    191231\n",
       "Name: count, dtype: int64"
      ]
     },
     "execution_count": 5,
     "metadata": {},
     "output_type": "execute_result"
    }
   ],
   "source": [
    "df['year'].value_counts()"
   ]
  },
  {
   "cell_type": "code",
   "execution_count": 6,
   "metadata": {},
   "outputs": [
    {
     "data": {
      "text/plain": [
       "np.float64(6.3339772)"
      ]
     },
     "execution_count": 6,
     "metadata": {},
     "output_type": "execute_result"
    }
   ],
   "source": [
    "df['car_age'].mean()"
   ]
  },
  {
   "cell_type": "code",
   "execution_count": 7,
   "metadata": {},
   "outputs": [],
   "source": [
    "nissan_altimas = df[(df['make'] == 'nissan') & (df['model'] == 'altima') & (df['year'] == 2018)]"
   ]
  },
  {
   "cell_type": "code",
   "execution_count": 38,
   "metadata": {},
   "outputs": [
    {
     "data": {
      "text/html": [
       "<div>\n",
       "<style scoped>\n",
       "    .dataframe tbody tr th:only-of-type {\n",
       "        vertical-align: middle;\n",
       "    }\n",
       "\n",
       "    .dataframe tbody tr th {\n",
       "        vertical-align: top;\n",
       "    }\n",
       "\n",
       "    .dataframe thead th {\n",
       "        text-align: right;\n",
       "    }\n",
       "</style>\n",
       "<table border=\"1\" class=\"dataframe\">\n",
       "  <thead>\n",
       "    <tr style=\"text-align: right;\">\n",
       "      <th></th>\n",
       "      <th>date_sold_new</th>\n",
       "      <th>make</th>\n",
       "      <th>model</th>\n",
       "      <th>year</th>\n",
       "      <th>sale_price_new</th>\n",
       "      <th>car_age</th>\n",
       "    </tr>\n",
       "  </thead>\n",
       "  <tbody>\n",
       "    <tr>\n",
       "      <th>0</th>\n",
       "      <td>2022-08-01</td>\n",
       "      <td>nissan</td>\n",
       "      <td>altima</td>\n",
       "      <td>2018</td>\n",
       "      <td>15983</td>\n",
       "      <td>4</td>\n",
       "    </tr>\n",
       "    <tr>\n",
       "      <th>228</th>\n",
       "      <td>2022-11-12</td>\n",
       "      <td>nissan</td>\n",
       "      <td>altima</td>\n",
       "      <td>2018</td>\n",
       "      <td>41141</td>\n",
       "      <td>4</td>\n",
       "    </tr>\n",
       "    <tr>\n",
       "      <th>633</th>\n",
       "      <td>2022-10-24</td>\n",
       "      <td>nissan</td>\n",
       "      <td>altima</td>\n",
       "      <td>2018</td>\n",
       "      <td>21042</td>\n",
       "      <td>4</td>\n",
       "    </tr>\n",
       "    <tr>\n",
       "      <th>1091</th>\n",
       "      <td>2022-05-13</td>\n",
       "      <td>nissan</td>\n",
       "      <td>altima</td>\n",
       "      <td>2018</td>\n",
       "      <td>44174</td>\n",
       "      <td>4</td>\n",
       "    </tr>\n",
       "    <tr>\n",
       "      <th>1162</th>\n",
       "      <td>2023-02-22</td>\n",
       "      <td>nissan</td>\n",
       "      <td>altima</td>\n",
       "      <td>2018</td>\n",
       "      <td>33511</td>\n",
       "      <td>5</td>\n",
       "    </tr>\n",
       "    <tr>\n",
       "      <th>1308</th>\n",
       "      <td>2022-12-13</td>\n",
       "      <td>nissan</td>\n",
       "      <td>altima</td>\n",
       "      <td>2018</td>\n",
       "      <td>17593</td>\n",
       "      <td>4</td>\n",
       "    </tr>\n",
       "    <tr>\n",
       "      <th>2024</th>\n",
       "      <td>2023-01-27</td>\n",
       "      <td>nissan</td>\n",
       "      <td>altima</td>\n",
       "      <td>2018</td>\n",
       "      <td>14419</td>\n",
       "      <td>5</td>\n",
       "    </tr>\n",
       "    <tr>\n",
       "      <th>2226</th>\n",
       "      <td>2022-05-17</td>\n",
       "      <td>nissan</td>\n",
       "      <td>altima</td>\n",
       "      <td>2018</td>\n",
       "      <td>32121</td>\n",
       "      <td>4</td>\n",
       "    </tr>\n",
       "    <tr>\n",
       "      <th>2564</th>\n",
       "      <td>2022-09-04</td>\n",
       "      <td>nissan</td>\n",
       "      <td>altima</td>\n",
       "      <td>2018</td>\n",
       "      <td>30515</td>\n",
       "      <td>4</td>\n",
       "    </tr>\n",
       "    <tr>\n",
       "      <th>2943</th>\n",
       "      <td>2022-07-30</td>\n",
       "      <td>nissan</td>\n",
       "      <td>altima</td>\n",
       "      <td>2018</td>\n",
       "      <td>45937</td>\n",
       "      <td>4</td>\n",
       "    </tr>\n",
       "    <tr>\n",
       "      <th>2957</th>\n",
       "      <td>2023-02-01</td>\n",
       "      <td>nissan</td>\n",
       "      <td>altima</td>\n",
       "      <td>2018</td>\n",
       "      <td>24759</td>\n",
       "      <td>5</td>\n",
       "    </tr>\n",
       "    <tr>\n",
       "      <th>2971</th>\n",
       "      <td>2022-08-25</td>\n",
       "      <td>nissan</td>\n",
       "      <td>altima</td>\n",
       "      <td>2018</td>\n",
       "      <td>12521</td>\n",
       "      <td>4</td>\n",
       "    </tr>\n",
       "    <tr>\n",
       "      <th>3194</th>\n",
       "      <td>2022-11-22</td>\n",
       "      <td>nissan</td>\n",
       "      <td>altima</td>\n",
       "      <td>2018</td>\n",
       "      <td>26960</td>\n",
       "      <td>4</td>\n",
       "    </tr>\n",
       "    <tr>\n",
       "      <th>3810</th>\n",
       "      <td>2022-09-30</td>\n",
       "      <td>nissan</td>\n",
       "      <td>altima</td>\n",
       "      <td>2018</td>\n",
       "      <td>22032</td>\n",
       "      <td>4</td>\n",
       "    </tr>\n",
       "    <tr>\n",
       "      <th>3864</th>\n",
       "      <td>2022-10-02</td>\n",
       "      <td>nissan</td>\n",
       "      <td>altima</td>\n",
       "      <td>2018</td>\n",
       "      <td>49471</td>\n",
       "      <td>4</td>\n",
       "    </tr>\n",
       "    <tr>\n",
       "      <th>3916</th>\n",
       "      <td>2022-07-14</td>\n",
       "      <td>nissan</td>\n",
       "      <td>altima</td>\n",
       "      <td>2018</td>\n",
       "      <td>18092</td>\n",
       "      <td>4</td>\n",
       "    </tr>\n",
       "    <tr>\n",
       "      <th>4119</th>\n",
       "      <td>2022-09-20</td>\n",
       "      <td>nissan</td>\n",
       "      <td>altima</td>\n",
       "      <td>2018</td>\n",
       "      <td>10784</td>\n",
       "      <td>4</td>\n",
       "    </tr>\n",
       "    <tr>\n",
       "      <th>4397</th>\n",
       "      <td>2023-03-22</td>\n",
       "      <td>nissan</td>\n",
       "      <td>altima</td>\n",
       "      <td>2018</td>\n",
       "      <td>38828</td>\n",
       "      <td>5</td>\n",
       "    </tr>\n",
       "    <tr>\n",
       "      <th>4800</th>\n",
       "      <td>2022-09-29</td>\n",
       "      <td>nissan</td>\n",
       "      <td>altima</td>\n",
       "      <td>2018</td>\n",
       "      <td>17891</td>\n",
       "      <td>4</td>\n",
       "    </tr>\n",
       "    <tr>\n",
       "      <th>4931</th>\n",
       "      <td>2023-03-11</td>\n",
       "      <td>nissan</td>\n",
       "      <td>altima</td>\n",
       "      <td>2018</td>\n",
       "      <td>12738</td>\n",
       "      <td>5</td>\n",
       "    </tr>\n",
       "  </tbody>\n",
       "</table>\n",
       "</div>"
      ],
      "text/plain": [
       "     date_sold_new    make   model  year  sale_price_new  car_age\n",
       "0       2022-08-01  nissan  altima  2018           15983        4\n",
       "228     2022-11-12  nissan  altima  2018           41141        4\n",
       "633     2022-10-24  nissan  altima  2018           21042        4\n",
       "1091    2022-05-13  nissan  altima  2018           44174        4\n",
       "1162    2023-02-22  nissan  altima  2018           33511        5\n",
       "1308    2022-12-13  nissan  altima  2018           17593        4\n",
       "2024    2023-01-27  nissan  altima  2018           14419        5\n",
       "2226    2022-05-17  nissan  altima  2018           32121        4\n",
       "2564    2022-09-04  nissan  altima  2018           30515        4\n",
       "2943    2022-07-30  nissan  altima  2018           45937        4\n",
       "2957    2023-02-01  nissan  altima  2018           24759        5\n",
       "2971    2022-08-25  nissan  altima  2018           12521        4\n",
       "3194    2022-11-22  nissan  altima  2018           26960        4\n",
       "3810    2022-09-30  nissan  altima  2018           22032        4\n",
       "3864    2022-10-02  nissan  altima  2018           49471        4\n",
       "3916    2022-07-14  nissan  altima  2018           18092        4\n",
       "4119    2022-09-20  nissan  altima  2018           10784        4\n",
       "4397    2023-03-22  nissan  altima  2018           38828        5\n",
       "4800    2022-09-29  nissan  altima  2018           17891        4\n",
       "4931    2023-03-11  nissan  altima  2018           12738        5"
      ]
     },
     "execution_count": 38,
     "metadata": {},
     "output_type": "execute_result"
    }
   ],
   "source": [
    "nissan_altimas.head(20)"
   ]
  },
  {
   "cell_type": "code",
   "execution_count": 8,
   "metadata": {},
   "outputs": [
    {
     "data": {
      "text/plain": [
       "np.float64(30091.778691684875)"
      ]
     },
     "execution_count": 8,
     "metadata": {},
     "output_type": "execute_result"
    }
   ],
   "source": [
    "nissan_altimas['sale_price_new'].mean()"
   ]
  },
  {
   "cell_type": "code",
   "execution_count": 9,
   "metadata": {},
   "outputs": [
    {
     "data": {
      "text/plain": [
       "np.int64(49994)"
      ]
     },
     "execution_count": 9,
     "metadata": {},
     "output_type": "execute_result"
    }
   ],
   "source": [
    "nissan_altimas['sale_price_new'].max()"
   ]
  },
  {
   "cell_type": "code",
   "execution_count": 10,
   "metadata": {},
   "outputs": [
    {
     "data": {
      "text/plain": [
       "np.int64(10006)"
      ]
     },
     "execution_count": 10,
     "metadata": {},
     "output_type": "execute_result"
    }
   ],
   "source": [
    "nissan_altimas['sale_price_new'].min()"
   ]
  },
  {
   "cell_type": "code",
   "execution_count": 21,
   "metadata": {},
   "outputs": [
    {
     "name": "stdout",
     "output_type": "stream",
     "text": [
      "2022.3209099087521\n",
      "6.582829970440818\n",
      "15.631024289937026\n",
      "3.037912864670351\n"
     ]
    }
   ],
   "source": [
    "print(nissan_altimas[\"date_sold_new\"].dt.year.mean())\n",
    "print(nissan_altimas[\"date_sold_new\"].dt.month.mean())\n",
    "print(nissan_altimas[\"date_sold_new\"].dt.day.mean())\n",
    "print(nissan_altimas[\"date_sold_new\"].dt.day_of_week.mean())"
   ]
  },
  {
   "cell_type": "code",
   "execution_count": 25,
   "metadata": {},
   "outputs": [
    {
     "data": {
      "text/plain": [
       "<Axes: xlabel='date_sold_new', ylabel='count'>"
      ]
     },
     "execution_count": 25,
     "metadata": {},
     "output_type": "execute_result"
    },
    {
     "data": {
      "image/png": "[encoded data removed]",
      "text/plain": [
       "<Figure size 640x480 with 1 Axes>"
      ]
     },
     "metadata": {},
     "output_type": "display_data"
    }
   ],
   "source": [
    "sns.barplot(nissan_altimas[\"date_sold_new\"].dt.year.value_counts())"
   ]
  },
  {
   "cell_type": "code",
   "execution_count": 26,
   "metadata": {},
   "outputs": [
    {
     "data": {
      "text/plain": [
       "<Axes: xlabel='date_sold_new', ylabel='count'>"
      ]
     },
     "execution_count": 26,
     "metadata": {},
     "output_type": "execute_result"
    },
    {
     "data": {
      "image/png": "[encoded data removed]",
      "text/plain": [
       "<Figure size 640x480 with 1 Axes>"
      ]
     },
     "metadata": {},
     "output_type": "display_data"
    }
   ],
   "source": [
    "sns.barplot(nissan_altimas[\"date_sold_new\"].dt.day.value_counts())"
   ]
  },
  {
   "cell_type": "code",
   "execution_count": 27,
   "metadata": {},
   "outputs": [
    {
     "data": {
      "text/plain": [
       "<Axes: xlabel='date_sold_new', ylabel='count'>"
      ]
     },
     "execution_count": 27,
     "metadata": {},
     "output_type": "execute_result"
    },
    {
     "data": {
      "image/png": "[encoded data removed]",
      "text/plain": [
       "<Figure size 640x480 with 1 Axes>"
      ]
     },
     "metadata": {},
     "output_type": "display_data"
    }
   ],
   "source": [
    "sns.barplot(nissan_altimas[\"date_sold_new\"].dt.day_of_week.value_counts())"
   ]
  },
  {
   "cell_type": "code",
   "execution_count": 29,
   "metadata": {},
   "outputs": [
    {
     "data": {
      "text/plain": [
       "<Axes: xlabel='date_sold_new', ylabel='count'>"
      ]
     },
     "execution_count": 29,
     "metadata": {},
     "output_type": "execute_result"
    },
    {
     "data": {
      "image/png": "[encoded data removed]",
      "text/plain": [
       "<Figure size 640x480 with 1 Axes>"
      ]
     },
     "metadata": {},
     "output_type": "display_data"
    }
   ],
   "source": [
    "sns.barplot(nissan_altimas[\"date_sold_new\"].dt.month.value_counts())"
   ]
  },
  {
   "cell_type": "code",
   "execution_count": 35,
   "metadata": {},
   "outputs": [
    {
     "data": {
      "text/plain": [
       "<Axes: xlabel='car_age', ylabel='count'>"
      ]
     },
     "execution_count": 35,
     "metadata": {},
     "output_type": "execute_result"
    },
    {
     "data": {
      "image/png": "[encoded data removed]",
      "text/plain": [
       "<Figure size 640x480 with 1 Axes>"
      ]
     },
     "metadata": {},
     "output_type": "display_data"
    }
   ],
   "source": [
    "sns.barplot(nissan_altimas[\"car_age\"].value_counts())"
   ]
  },
  {
   "cell_type": "code",
   "execution_count": 37,
   "metadata": {},
   "outputs": [
    {
     "data": {
      "text/plain": [
       "<Axes: ylabel='sale_price_new'>"
      ]
     },
     "execution_count": 37,
     "metadata": {},
     "output_type": "execute_result"
    },
    {
     "data": {
      "image/png": "[encoded data removed]",
      "text/plain": [
       "<Figure size 640x480 with 1 Axes>"
      ]
     },
     "metadata": {},
     "output_type": "display_data"
    }
   ],
   "source": [
    "sns.barplot(nissan_altimas[\"sale_price_new\"])"
   ]
  }
 ],
 "metadata": {
  "kernelspec": {
   "display_name": "venv",
   "language": "python",
   "name": "python3"
  },
  "language_info": {
   "codemirror_mode": {
    "name": "ipython",
    "version": 3
   },
   "file_extension": ".py",
   "mimetype": "text/x-python",
   "name": "python",
   "nbconvert_exporter": "python",
   "pygments_lexer": "ipython3",
   "version": "3.11.2"
  }
 },
 "nbformat": 4,
 "nbformat_minor": 2
}
