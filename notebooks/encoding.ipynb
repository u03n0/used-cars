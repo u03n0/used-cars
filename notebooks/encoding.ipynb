{
 "cells": [
  {
   "cell_type": "code",
   "execution_count": 1,
   "metadata": {},
   "outputs": [],
   "source": [
    "import pandas as pd\n",
    "import joblib\n",
    "from sklearn.pipeline import Pipeline\n",
    "from sklearn.compose import ColumnTransformer\n",
    "from sklearn.preprocessing import StandardScaler, OneHotEncoder\n",
    "from sklearn.model_selection import train_test_split\n",
    "from sklearn.linear_model import LinearRegression\n",
    "from sklearn.svm import SVR"
   ]
  },
  {
   "cell_type": "code",
   "execution_count": 2,
   "metadata": {},
   "outputs": [
    {
     "name": "stdout",
     "output_type": "stream",
     "text": [
      "(725139, 12)\n"
     ]
    },
    {
     "data": {
      "text/html": [
       "<div>\n",
       "<style scoped>\n",
       "    .dataframe tbody tr th:only-of-type {\n",
       "        vertical-align: middle;\n",
       "    }\n",
       "\n",
       "    .dataframe tbody tr th {\n",
       "        vertical-align: top;\n",
       "    }\n",
       "\n",
       "    .dataframe thead th {\n",
       "        text-align: right;\n",
       "    }\n",
       "</style>\n",
       "<table border=\"1\" class=\"dataframe\">\n",
       "  <thead>\n",
       "    <tr style=\"text-align: right;\">\n",
       "      <th></th>\n",
       "      <th>date_sold_new</th>\n",
       "      <th>make</th>\n",
       "      <th>model</th>\n",
       "      <th>year</th>\n",
       "      <th>sale_price_new</th>\n",
       "      <th>car_age_sold_new</th>\n",
       "      <th>fuel</th>\n",
       "      <th>gear</th>\n",
       "      <th>hp</th>\n",
       "      <th>used_mileage</th>\n",
       "      <th>sale_price_used</th>\n",
       "      <th>price_difference_sold_used</th>\n",
       "    </tr>\n",
       "  </thead>\n",
       "  <tbody>\n",
       "    <tr>\n",
       "      <th>0</th>\n",
       "      <td>2022-05-13</td>\n",
       "      <td>chevrolet</td>\n",
       "      <td>silverado</td>\n",
       "      <td>2019</td>\n",
       "      <td>41216</td>\n",
       "      <td>3</td>\n",
       "      <td>gasoline</td>\n",
       "      <td>automatic</td>\n",
       "      <td>355.0</td>\n",
       "      <td>14310.0</td>\n",
       "      <td>68900.0</td>\n",
       "      <td>27684.0</td>\n",
       "    </tr>\n",
       "    <tr>\n",
       "      <th>1</th>\n",
       "      <td>2022-05-25</td>\n",
       "      <td>honda</td>\n",
       "      <td>civic</td>\n",
       "      <td>2011</td>\n",
       "      <td>17997</td>\n",
       "      <td>11</td>\n",
       "      <td>gasoline</td>\n",
       "      <td>manual</td>\n",
       "      <td>99.0</td>\n",
       "      <td>61999.0</td>\n",
       "      <td>7949.0</td>\n",
       "      <td>-10048.0</td>\n",
       "    </tr>\n",
       "    <tr>\n",
       "      <th>2</th>\n",
       "      <td>2022-05-25</td>\n",
       "      <td>honda</td>\n",
       "      <td>civic</td>\n",
       "      <td>2011</td>\n",
       "      <td>17997</td>\n",
       "      <td>11</td>\n",
       "      <td>gasoline</td>\n",
       "      <td>manual</td>\n",
       "      <td>99.0</td>\n",
       "      <td>221300.0</td>\n",
       "      <td>4450.0</td>\n",
       "      <td>-13547.0</td>\n",
       "    </tr>\n",
       "  </tbody>\n",
       "</table>\n",
       "</div>"
      ],
      "text/plain": [
       "  date_sold_new       make      model  year  sale_price_new  car_age_sold_new  \\\n",
       "0    2022-05-13  chevrolet  silverado  2019           41216                 3   \n",
       "1    2022-05-25      honda      civic  2011           17997                11   \n",
       "2    2022-05-25      honda      civic  2011           17997                11   \n",
       "\n",
       "       fuel       gear     hp  used_mileage  sale_price_used  \\\n",
       "0  gasoline  automatic  355.0       14310.0          68900.0   \n",
       "1  gasoline     manual   99.0       61999.0           7949.0   \n",
       "2  gasoline     manual   99.0      221300.0           4450.0   \n",
       "\n",
       "   price_difference_sold_used  \n",
       "0                     27684.0  \n",
       "1                    -10048.0  \n",
       "2                    -13547.0  "
      ]
     },
     "execution_count": 2,
     "metadata": {},
     "output_type": "execute_result"
    }
   ],
   "source": [
    "df = pd.read_csv(\"../data/clean/data.csv\")\n",
    "print(df.shape)\n",
    "df.head(3)"
   ]
  },
  {
   "cell_type": "code",
   "execution_count": 3,
   "metadata": {},
   "outputs": [
    {
     "name": "stdout",
     "output_type": "stream",
     "text": [
      "<class 'pandas.core.frame.DataFrame'>\n",
      "RangeIndex: 725139 entries, 0 to 725138\n",
      "Data columns (total 12 columns):\n",
      " #   Column                      Non-Null Count   Dtype  \n",
      "---  ------                      --------------   -----  \n",
      " 0   date_sold_new               725139 non-null  object \n",
      " 1   make                        725139 non-null  object \n",
      " 2   model                       725139 non-null  object \n",
      " 3   year                        725139 non-null  int64  \n",
      " 4   sale_price_new              725139 non-null  int64  \n",
      " 5   car_age_sold_new            725139 non-null  int64  \n",
      " 6   fuel                        725139 non-null  object \n",
      " 7   gear                        725139 non-null  object \n",
      " 8   hp                          725139 non-null  float64\n",
      " 9   used_mileage                725139 non-null  float64\n",
      " 10  sale_price_used             725139 non-null  float64\n",
      " 11  price_difference_sold_used  725139 non-null  float64\n",
      "dtypes: float64(4), int64(3), object(5)\n",
      "memory usage: 66.4+ MB\n"
     ]
    }
   ],
   "source": [
    "df.info()"
   ]
  },
  {
   "cell_type": "code",
   "execution_count": 11,
   "metadata": {},
   "outputs": [
    {
     "data": {
      "text/plain": [
       "year\n",
       "2014    121534\n",
       "2020    114865\n",
       "2013     92952\n",
       "2019     92647\n",
       "2021     77830\n",
       "2015     70272\n",
       "2011     46662\n",
       "2012     38955\n",
       "2016     30794\n",
       "2018     23202\n",
       "2017     15426\n",
       "Name: count, dtype: int64"
      ]
     },
     "execution_count": 11,
     "metadata": {},
     "output_type": "execute_result"
    }
   ],
   "source": [
    "df['year'].value_counts()"
   ]
  },
  {
   "cell_type": "code",
   "execution_count": 4,
   "metadata": {},
   "outputs": [],
   "source": [
    "X = df.drop(columns=['date_sold_new', 'car_age_sold_new', 'sale_price_used'])\n",
    "y = df['price_difference_sold_used']"
   ]
  },
  {
   "cell_type": "code",
   "execution_count": 5,
   "metadata": {},
   "outputs": [],
   "source": [
    "numeric_features = ['hp', 'used_mileage', 'year', 'sale_price_new']\n",
    "numeric_transformer = StandardScaler()"
   ]
  },
  {
   "cell_type": "code",
   "execution_count": 6,
   "metadata": {},
   "outputs": [],
   "source": [
    "categorical_features = ['make', 'model', 'fuel', 'gear']\n",
    "categorical_transformer = OneHotEncoder(drop='first', handle_unknown='ignore')"
   ]
  },
  {
   "cell_type": "code",
   "execution_count": 7,
   "metadata": {},
   "outputs": [],
   "source": [
    "preprocessor = ColumnTransformer(\n",
    "    transformers=[\n",
    "        ('num', numeric_transformer, numeric_features),\n",
    "        ('cat', categorical_transformer, categorical_features)\n",
    "    ]\n",
    ")"
   ]
  },
  {
   "cell_type": "code",
   "execution_count": 8,
   "metadata": {},
   "outputs": [],
   "source": [
    "pipeline = Pipeline(steps=[\n",
    "    ('preprocessor', preprocessor),\n",
    "    ('regressor', LinearRegression())  # Change to SVM or other models as needed\n",
    "])"
   ]
  },
  {
   "cell_type": "code",
   "execution_count": 9,
   "metadata": {},
   "outputs": [
    {
     "name": "stdout",
     "output_type": "stream",
     "text": [
      "Model R^2 score on test set: 0.9790382603745849\n"
     ]
    }
   ],
   "source": [
    "X_train, X_test, y_train, y_test = train_test_split(X, y, test_size=0.2, random_state=42)\n",
    "\n",
    "# Fit the pipeline to the training data\n",
    "pipeline.fit(X_train, y_train)\n",
    "\n",
    "# Evaluate the model on the test set\n",
    "score = pipeline.score(X_test, y_test)\n",
    "print(f'Model R^2 score on test set: {score}')"
   ]
  },
  {
   "cell_type": "code",
   "execution_count": 10,
   "metadata": {},
   "outputs": [
    {
     "data": {
      "text/plain": [
       "['../data/models/pipeline.pkl']"
      ]
     },
     "execution_count": 10,
     "metadata": {},
     "output_type": "execute_result"
    }
   ],
   "source": [
    "joblib.dump(pipeline, '../data/models/pipeline.pkl')"
   ]
  }
 ],
 "metadata": {
  "kernelspec": {
   "display_name": "venv",
   "language": "python",
   "name": "python3"
  },
  "language_info": {
   "codemirror_mode": {
    "name": "ipython",
    "version": 3
   },
   "file_extension": ".py",
   "mimetype": "text/x-python",
   "name": "python",
   "nbconvert_exporter": "python",
   "pygments_lexer": "ipython3",
   "version": "3.11.2"
  }
 },
 "nbformat": 4,
 "nbformat_minor": 2
}
